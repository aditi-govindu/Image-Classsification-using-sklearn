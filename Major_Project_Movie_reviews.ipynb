{
  "nbformat": 4,
  "nbformat_minor": 0,
  "metadata": {
    "colab": {
      "name": "Major Project: Movie reviews.ipynb",
      "provenance": [],
      "collapsed_sections": [],
      "authorship_tag": "ABX9TyNeSpcQfJLN+HEZ5DJ0RN67",
      "include_colab_link": true
    },
    "kernelspec": {
      "display_name": "Python 3",
      "name": "python3"
    }
  },
  "cells": [
    {
      "cell_type": "markdown",
      "metadata": {
        "id": "view-in-github",
        "colab_type": "text"
      },
      "source": [
        "<a href=\"https://colab.research.google.com/github/aditi-govindu/Image-Classsification-using-sklearn/blob/main/Major_Project_Movie_reviews.ipynb\" target=\"_parent\"><img src=\"https://colab.research.google.com/assets/colab-badge.svg\" alt=\"Open In Colab\"/></a>"
      ]
    },
    {
      "cell_type": "markdown",
      "metadata": {
        "id": "OT8k-Rr_oQfY"
      },
      "source": [
        "# Importing required modules"
      ]
    },
    {
      "cell_type": "code",
      "metadata": {
        "id": "I2yBp04JdP4z"
      },
      "source": [
        "# For scientific computations\r\n",
        "import numpy as np \r\n",
        "# Loading dataset file\r\n",
        "import pandas as pd \r\n",
        "# To use Regular expression\r\n",
        "import re  \r\n",
        "# Visualization\r\n",
        "import seaborn as sns"
      ],
      "execution_count": 40,
      "outputs": []
    },
    {
      "cell_type": "markdown",
      "metadata": {
        "id": "Q3H5aAIboagH"
      },
      "source": [
        "# Reading the datset\r\n",
        "Displaying dataset dimensions, shape, content summary etc"
      ]
    },
    {
      "cell_type": "code",
      "metadata": {
        "colab": {
          "base_uri": "https://localhost:8080/"
        },
        "id": "nyXeypsNeGGt",
        "outputId": "22eb3b3f-4d27-4819-b2a0-fe074520496e"
      },
      "source": [
        "dataset = pd.read_table('https://raw.githubusercontent.com/aditi-govindu/Movie-review-classification/main/moviereviews.tsv')\r\n",
        "print(\"Shape:\",dataset.shape)  ### Return the shape of data \r\n",
        "print(\"Dimensions:\",dataset.ndim)   ### Return the n dimensions of data\r\n",
        "print(\"Size:\",dataset.size)   ### Return the size of data \r\n",
        "print(\"Count of empty fields:\\n\",dataset.isna().sum())  ### Returns the sum fo all na values\r\n",
        "print(\"Summary of dataset:\")\r\n",
        "print(dataset.info())  ### Give concise summary of a DataFrame\r\n",
        "print(\"Top 5 reviews:\\n\",dataset.head())  ## top 5 rows of the dataframe\r\n",
        "print(\"Last 5 reviews:\\n\",dataset.tail()) ## bottom 5 rows of the dataframe"
      ],
      "execution_count": 47,
      "outputs": [
        {
          "output_type": "stream",
          "text": [
            "Shape: (25000, 3)\n",
            "Dimensions: 2\n",
            "Size: 75000\n",
            "Count of empty fields:\n",
            " id           0\n",
            "sentiment    0\n",
            "review       0\n",
            "dtype: int64\n",
            "Summary of dataset:\n",
            "<class 'pandas.core.frame.DataFrame'>\n",
            "RangeIndex: 25000 entries, 0 to 24999\n",
            "Data columns (total 3 columns):\n",
            " #   Column     Non-Null Count  Dtype \n",
            "---  ------     --------------  ----- \n",
            " 0   id         25000 non-null  object\n",
            " 1   sentiment  25000 non-null  int64 \n",
            " 2   review     25000 non-null  object\n",
            "dtypes: int64(1), object(2)\n",
            "memory usage: 586.1+ KB\n",
            "None\n",
            "Top 5 reviews:\n",
            "        id  sentiment                                             review\n",
            "0  5814_8          1  With all this stuff going down at the moment w...\n",
            "1  2381_9          1  \\The Classic War of the Worlds\\\" by Timothy Hi...\n",
            "2  7759_3          0  The film starts with a manager (Nicholas Bell)...\n",
            "3  3630_4          0  It must be assumed that those who praised this...\n",
            "4  9495_8          1  Superbly trashy and wondrously unpretentious 8...\n",
            "Last 5 reviews:\n",
            "             id  sentiment                                             review\n",
            "24995   3453_3          0  It seems like more consideration has gone into...\n",
            "24996   5064_1          0  I don't believe they made this film. Completel...\n",
            "24997  10905_3          0  Guy is a loser. Can't get girls, needs to buil...\n",
            "24998  10194_3          0  This 30 minute documentary Buñuel made in the ...\n",
            "24999   8478_8          1  I saw this movie as a child and it broke my he...\n"
          ],
          "name": "stdout"
        }
      ]
    },
    {
      "cell_type": "code",
      "metadata": {
        "colab": {
          "base_uri": "https://localhost:8080/",
          "height": 350
        },
        "id": "Lmx9b87HUvNH",
        "outputId": "e779df1b-eb9f-4f30-a869-9c07ca79e689"
      },
      "source": [
        "# Find if dataset is balanced or imbalanced (it is balanced)\r\n",
        "sns.countplot('sentiment',data=dataset)"
      ],
      "execution_count": 48,
      "outputs": [
        {
          "output_type": "stream",
          "text": [
            "/usr/local/lib/python3.7/dist-packages/seaborn/_decorators.py:43: FutureWarning: Pass the following variable as a keyword arg: x. From version 0.12, the only valid positional argument will be `data`, and passing other arguments without an explicit keyword will result in an error or misinterpretation.\n",
            "  FutureWarning\n"
          ],
          "name": "stderr"
        },
        {
          "output_type": "execute_result",
          "data": {
            "text/plain": [
              "<matplotlib.axes._subplots.AxesSubplot at 0x7f751f6f77d0>"
            ]
          },
          "metadata": {
            "tags": []
          },
          "execution_count": 48
        },
        {
          "output_type": "display_data",
          "data": {
            "image/png": "[encoded data removed]",
            "text/plain": [
              "<Figure size 432x288 with 1 Axes>"
            ]
          },
          "metadata": {
            "tags": [],
            "needs_background": "light"
          }
        }
      ]
    },
    {
      "cell_type": "markdown",
      "metadata": {
        "id": "G4fU180WpdsP"
      },
      "source": [
        "# Cleaning up the reviews\r\n",
        "\r\n",
        "\r\n",
        "*   Using regular expressions to replace , by white spaces \r\n",
        "*   Tokenisation\r\n",
        "*   Set stopwords and remove them from the review\r\n",
        "*   Append unique words to corpus list"
      ]
    },
    {
      "cell_type": "code",
      "metadata": {
        "id": "HbRvNJipeuix"
      },
      "source": [
        "corpus = []\r\n",
        "# We have 25000 reviews\r\n",
        "for i in range(0,25000):   \r\n",
        "     review = re.sub('[^a-zA-Z]',\" \",dataset[\"review\"][i])\r\n",
        "     review = review.lower()\r\n",
        "     review = review.split()\r\n",
        "     # Stopwords are commonly occuring words with no effect on sentiment\r\n",
        "     all_stopword = ['i', 'me', 'my', 'myself', 'we', 'our', 'ours', 'ourselves', 'you', \"you're\", \"you've\", \"you'll\", \"you'd\", 'your', 'yours', 'yourself', 'yourselves', 'he', 'him', 'his', 'himself', 'she', \"she's\", 'her', 'hers', 'herself', 'it', \"it's\", 'its', 'itself', 'they', 'them', 'their', 'theirs', 'themselves', 'what', 'which', 'who', 'whom', 'this', 'that', \"that'll\", 'these', 'those', 'am', 'is', 'are', 'was', 'were', 'be', 'been', 'being', 'have', 'has', 'had', 'having', 'do', 'does', 'did', 'doing', 'a', 'an', 'the', 'and', 'but', 'if', 'or', 'because', 'as', 'until', 'while', 'of', 'at', 'by', 'for', 'with', 'about', 'against', 'between', 'into', 'through', 'during', 'before', 'after', 'above', 'below', 'to', 'from', 'up', 'down', 'in', 'out', 'on', 'off', 'over', 'under', 'again', 'further', 'then', 'once', 'here', 'there', 'when', 'where', 'why', 'how', 'all', 'any', 'both', 'each', 'few', 'more', 'most', 'other', 'some', 'such', 'no', 'nor', 'only', 'own', 'same', 'so', 'than', 'too', 'very', 's', 't', 'can', 'will', 'just', 'don', \"don't\", 'should', \"should've\", 'now', 'd', 'll', 'm', 'o', 're', 've', 'y', 'ain', 'aren', \"aren't\", 'couldn', \"couldn't\", 'didn', \"didn't\", 'doesn', \"doesn't\", 'hadn', \"hadn't\", 'hasn', \"hasn't\", 'haven', \"haven't\", 'isn', \"isn't\", 'ma', 'mightn', \"mightn't\", 'mustn', \"mustn't\", 'needn', \"needn't\", 'shan', \"shan't\", 'shouldn', \"shouldn't\", 'wasn', \"wasn't\", 'weren', \"weren't\", 'won', \"won't\", 'wouldn', \"wouldn't\"]\r\n",
        "     # Keep only non-stop words\r\n",
        "     review = [word for word in review if not word in set(all_stopword)]\r\n",
        "     review = \" \".join(review)\r\n",
        "     corpus.append(review)"
      ],
      "execution_count": 11,
      "outputs": []
    },
    {
      "cell_type": "markdown",
      "metadata": {
        "id": "DM0HmvyRtvSB"
      },
      "source": [
        "Count vectorization"
      ]
    },
    {
      "cell_type": "code",
      "metadata": {
        "id": "NEIv3wEAfZBe"
      },
      "source": [
        "from sklearn.feature_extraction.text import CountVectorizer\r\n",
        "# Max features (1500) columns are read\r\n",
        "cv = CountVectorizer(max_features=1500)\r\n",
        "X = cv.fit_transform(corpus).toarray()\r\n",
        "y = dataset[\"sentiment\"]"
      ],
      "execution_count": 50,
      "outputs": []
    },
    {
      "cell_type": "markdown",
      "metadata": {
        "id": "S7cbChpStyo8"
      },
      "source": [
        "# Creating a model\r\n",
        "Split dataset into training and testing models"
      ]
    },
    {
      "cell_type": "code",
      "metadata": {
        "id": "wzSWl393fuHG"
      },
      "source": [
        "from sklearn.model_selection import train_test_split\r\n",
        "X_train,X_test,y_train,y_test = train_test_split(X,y,test_size=0.2,random_state=0)"
      ],
      "execution_count": 53,
      "outputs": []
    },
    {
      "cell_type": "markdown",
      "metadata": {
        "id": "XfiMXtRcuVy5"
      },
      "source": [
        "Applying Gaussian and Multinomial Navie Bayes model to dataset"
      ]
    },
    {
      "cell_type": "code",
      "metadata": {
        "id": "sTOVedRvfxpQ"
      },
      "source": [
        "from sklearn.naive_bayes import GaussianNB,MultinomialNB\r\n",
        "GNB = GaussianNB()\r\n",
        "MNB = MultinomialNB()\r\n",
        "model1 = GNB.fit(X_train, y_train)\r\n",
        "model2 = MNB.fit(X_train, y_train)"
      ],
      "execution_count": 54,
      "outputs": []
    },
    {
      "cell_type": "markdown",
      "metadata": {
        "id": "X0qe7GD7unhH"
      },
      "source": [
        "Choosing model with better accuracy for prediction"
      ]
    },
    {
      "cell_type": "code",
      "metadata": {
        "colab": {
          "base_uri": "https://localhost:8080/"
        },
        "id": "zSin0D5sgbWQ",
        "outputId": "4862c25a-2b6b-47fa-b97f-483117615f4f"
      },
      "source": [
        "print(\"Accuracy of Gaussian:\",GNB.score(X_test,y_test))   ## 0.796\r\n",
        "print(\"Accuracy of Multinomial:\",MNB.score(X_test,y_test))   ## 0.8502"
      ],
      "execution_count": 55,
      "outputs": [
        {
          "output_type": "stream",
          "text": [
            "Accuracy of Gaussian: 0.796\n",
            "Accuracy of Multinomial: 0.8502\n"
          ],
          "name": "stdout"
        }
      ]
    },
    {
      "cell_type": "markdown",
      "metadata": {
        "id": "xsW5Pev8uw5W"
      },
      "source": [
        "# Predicting output"
      ]
    },
    {
      "cell_type": "code",
      "metadata": {
        "colab": {
          "base_uri": "https://localhost:8080/"
        },
        "id": "iesxG0SFggVs",
        "outputId": "28769303-ee0a-4eb8-c267-6de8c34871d2"
      },
      "source": [
        "y_pred=model2.predict(X_test)\r\n",
        "print(np.concatenate((y_pred.reshape(len(y_pred),1), np.array(y_test).reshape(len(y_test),1)),1))"
      ],
      "execution_count": 56,
      "outputs": [
        {
          "output_type": "stream",
          "text": [
            "[[1 0]\n",
            " [0 1]\n",
            " [1 0]\n",
            " ...\n",
            " [1 1]\n",
            " [0 0]\n",
            " [1 1]]\n"
          ],
          "name": "stdout"
        }
      ]
    },
    {
      "cell_type": "markdown",
      "metadata": {
        "id": "AsvI-sBLxaeg"
      },
      "source": [
        "# Evaluating model metrics"
      ]
    },
    {
      "cell_type": "code",
      "metadata": {
        "colab": {
          "base_uri": "https://localhost:8080/"
        },
        "id": "vW5EjyMBgnwp",
        "outputId": "c2ec14bb-bfe2-45c8-9806-030c6e35c4d0"
      },
      "source": [
        "# Evaluate based on accuracy, classificatio report and confusion matrix\r\n",
        "from sklearn.metrics import confusion_matrix,accuracy_score,classification_report\r\n",
        "cm = confusion_matrix(y_test, y_pred)\r\n",
        "score = accuracy_score(y_test,y_pred)\r\n",
        "cl_report = classification_report(y_test,y_pred)\r\n",
        "print(\"Confusion matrix:\\n\",cm)\r\n",
        "print(\"Classification Report:\\n\",cl_report)\r\n",
        "print(\"Accuracy of MNB: \",score*100)"
      ],
      "execution_count": 57,
      "outputs": [
        {
          "output_type": "stream",
          "text": [
            "Confusion matrix:\n",
            " [[2151  397]\n",
            " [ 352 2100]]\n",
            "Classification Report:\n",
            "               precision    recall  f1-score   support\n",
            "\n",
            "           0       0.86      0.84      0.85      2548\n",
            "           1       0.84      0.86      0.85      2452\n",
            "\n",
            "    accuracy                           0.85      5000\n",
            "   macro avg       0.85      0.85      0.85      5000\n",
            "weighted avg       0.85      0.85      0.85      5000\n",
            "\n",
            "Accuracy of MNB:  85.02\n"
          ],
          "name": "stdout"
        }
      ]
    },
    {
      "cell_type": "markdown",
      "metadata": {
        "id": "Qm4-k7bHxeEq"
      },
      "source": [
        "Save model as pickle file"
      ]
    },
    {
      "cell_type": "code",
      "metadata": {
        "id": "FhZ-qIYog6W-"
      },
      "source": [
        "import pickle\r\n",
        "# Save trained model and CountVectorizer to pickle\r\n",
        "pickle.dump(cv, open('countvectorizer.pkl', 'wb'))\r\n",
        "pickle.dump(model2, open(\"MNBmodel.pkl\", \"wb\"))\r\n",
        "# Open trained model and re-evaluate\r\n",
        "loaded_model = pickle.load(open(\"MNBmodel.pkl\", \"rb\"))\r\n",
        "y_pred_new = loaded_model.predict(X_test)\r\n",
        "print(\"Accuracy score: \",loaded_model.score(X_test,y_test))"
      ],
      "execution_count": null,
      "outputs": []
    },
    {
      "cell_type": "markdown",
      "metadata": {
        "id": "o-7Q-zaTxh5H"
      },
      "source": [
        "Predict output for user entered review"
      ]
    },
    {
      "cell_type": "code",
      "metadata": {
        "id": "iVp4ikqNhODP"
      },
      "source": [
        "# Predict output for new review\r\n",
        "def new_review(new_review):\r\n",
        "  cv = pickle.load(open(\"countvectorizer.pkl\",\"rb\"))\r\n",
        "  loaded_model = pickle.load(open(\"MNBmodel.pkl\", \"rb\"))\r\n",
        "  new_review = new_review\r\n",
        "  # Replace , by white spaces in the input review\r\n",
        "  new_review = re.sub('[^a-zA-Z]', ' ', new_review)\r\n",
        "  # Convert to lower case\r\n",
        "  new_review = new_review.lower()\r\n",
        "  # Separate words from text in review\r\n",
        "  new_review = new_review.split()\r\n",
        "  # Generate stop words in english\r\n",
        "  all_stopwords = ['i', 'me', 'my', 'myself', 'we', 'our', 'ours', 'ourselves', 'you', \"you're\", \"you've\", \"you'll\", \"you'd\", 'your', 'yours', 'yourself', 'yourselves', 'he', 'him', 'his', 'himself', 'she', \"she's\", 'her', 'hers', 'herself', 'it', \"it's\", 'its', 'itself', 'they', 'them', 'their', 'theirs', 'themselves', 'what', 'which', 'who', 'whom', 'this', 'that', \"that'll\", 'these', 'those', 'am', 'is', 'are', 'was', 'were', 'be', 'been', 'being', 'have', 'has', 'had', 'having', 'do', 'does', 'did', 'doing', 'a', 'an', 'the', 'and', 'but', 'if', 'or', 'because', 'as', 'until', 'while', 'of', 'at', 'by', 'for', 'with', 'about', 'against', 'between', 'into', 'through', 'during', 'before', 'after', 'above', 'below', 'to', 'from', 'up', 'down', 'in', 'out', 'on', 'off', 'over', 'under', 'again', 'further', 'then', 'once', 'here', 'there', 'when', 'where', 'why', 'how', 'all', 'any', 'both', 'each', 'few', 'more', 'most', 'other', 'some', 'such', 'no', 'nor', 'only', 'own', 'same', 'so', 'than', 'too', 'very', 's', 't', 'can', 'will', 'just', 'don', \"don't\", 'should', \"should've\", 'now', 'd', 'll', 'm', 'o', 're', 've', 'y', 'ain', 'aren', \"aren't\", 'couldn', \"couldn't\", 'didn', \"didn't\", 'doesn', \"doesn't\", 'hadn', \"hadn't\", 'hasn', \"hasn't\", 'haven', \"haven't\", 'isn', \"isn't\", 'ma', 'mightn', \"mightn't\", 'mustn', \"mustn't\", 'needn', \"needn't\", 'shan', \"shan't\", 'shouldn', \"shouldn't\", 'wasn', \"wasn't\", 'weren', \"weren't\", 'won', \"won't\", 'wouldn', \"wouldn't\"]\r\n",
        "  # If word in review is not a stop word, add to corpus list\r\n",
        "  new_review = [word for word in new_review if not word in set(all_stopwords)]\r\n",
        "  new_review = ' '.join(new_review)\r\n",
        "  new_corpus = [new_review]\r\n",
        "  # Convert to binary form\r\n",
        "  new_X_test = cv.transform(new_corpus).toarray()\r\n",
        "  # Predict sentiment for review\r\n",
        "  new_y_pred = loaded_model.predict(new_X_test)\r\n",
        "  return new_y_pred\r\n",
        "\r\n",
        "# User input\r\n",
        "input_review = input('Enter new review:')\r\n",
        "new_review = new_review(input_review)\r\n",
        "# Display results to user\r\n",
        "if new_review[0]==1:\r\n",
        "   print(\"Positive\")\r\n",
        "else :\r\n",
        "   print(\"Negative\")\r\n"
      ],
      "execution_count": null,
      "outputs": []
    },
    {
      "cell_type": "markdown",
      "metadata": {
        "id": "7O_31jkAxmis"
      },
      "source": [
        "# Deployment"
      ]
    },
    {
      "cell_type": "code",
      "metadata": {
        "id": "DrN67Q_BhsXD"
      },
      "source": [
        "!pip install streamlit\r\n",
        "!pip install pyngrok==4.1.1\r\n",
        "from pyngrok import ngrok"
      ],
      "execution_count": null,
      "outputs": []
    },
    {
      "cell_type": "code",
      "metadata": {
        "colab": {
          "base_uri": "https://localhost:8080/"
        },
        "id": "VZsQhlUpMIuo",
        "outputId": "272a5068-aba2-43e0-ab4a-4892d9037efe"
      },
      "source": [
        "%%writefile app.py\r\n",
        "# Import modules\r\n",
        "import pandas as pd \r\n",
        "import pickle\r\n",
        "import streamlit as st\r\n",
        "import re\r\n",
        "\r\n",
        "# Display on webpage\r\n",
        "st.title('Movie review classification')\r\n",
        "st.markdown(\"This project uses the IMDB movie review dataset\")\r\n",
        "st.markdown(\"Using sentiment analysis, reviews will be classified under a specific category\")\r\n",
        "st.sidebar.title(\"Steps for use: \")\r\n",
        "st.sidebar.markdown(\"1. Write a review in the box\")\r\n",
        "st.sidebar.markdown(\"2. Press enter\")\r\n",
        "st.sidebar.markdown(\"3. Wait for Positive/Negative to appear\")\r\n",
        "st.sidebar.markdown(\"It's that simple!\")\r\n",
        "\r\n",
        "# Load previously created models\r\n",
        "loaded_model = pickle.load(open(\"MNBmodel.pkl\",\"rb\"))\r\n",
        "cv = pickle.load(open(\"countvectorizer.pkl\",\"rb\"))\r\n",
        "\r\n",
        "# Predict output for new review\r\n",
        "def new_review(new_review):\r\n",
        "  new_review = new_review\r\n",
        "  # Replace , by white spaces in the input review\r\n",
        "  new_review = re.sub('[^a-zA-Z]', ' ', new_review)\r\n",
        "  # Convert to lower case\r\n",
        "  new_review = new_review.lower()\r\n",
        "  # Separate words from text in review\r\n",
        "  new_review = new_review.split()\r\n",
        "  # Generate stop words in english\r\n",
        "  all_stopwords = ['i', 'me', 'my', 'myself', 'we', 'our', 'ours', 'ourselves', 'you', \"you're\", \"you've\", \"you'll\", \"you'd\", 'your', 'yours', 'yourself', 'yourselves', 'he', 'him', 'his', 'himself', 'she', \"she's\", 'her', 'hers', 'herself', 'it', \"it's\", 'its', 'itself', 'they', 'them', 'their', 'theirs', 'themselves', 'what', 'which', 'who', 'whom', 'this', 'that', \"that'll\", 'these', 'those', 'am', 'is', 'are', 'was', 'were', 'be', 'been', 'being', 'have', 'has', 'had', 'having', 'do', 'does', 'did', 'doing', 'a', 'an', 'the', 'and', 'but', 'if', 'or', 'because', 'as', 'until', 'while', 'of', 'at', 'by', 'for', 'with', 'about', 'against', 'between', 'into', 'through', 'during', 'before', 'after', 'above', 'below', 'to', 'from', 'up', 'down', 'in', 'out', 'on', 'off', 'over', 'under', 'again', 'further', 'then', 'once', 'here', 'there', 'when', 'where', 'why', 'how', 'all', 'any', 'both', 'each', 'few', 'more', 'most', 'other', 'some', 'such', 'no', 'nor', 'only', 'own', 'same', 'so', 'than', 'too', 'very', 's', 't', 'can', 'will', 'just', 'don', \"don't\", 'should', \"should've\", 'now', 'd', 'll', 'm', 'o', 're', 've', 'y', 'ain', 'aren', \"aren't\", 'couldn', \"couldn't\", 'didn', \"didn't\", 'doesn', \"doesn't\", 'hadn', \"hadn't\", 'hasn', \"hasn't\", 'haven', \"haven't\", 'isn', \"isn't\", 'ma', 'mightn', \"mightn't\", 'mustn', \"mustn't\", 'needn', \"needn't\", 'shan', \"shan't\", 'shouldn', \"shouldn't\", 'wasn', \"wasn't\", 'weren', \"weren't\", 'won', \"won't\", 'wouldn', \"wouldn't\"]\r\n",
        "  # If word in review is not a stop word, add to corpus list\r\n",
        "  new_review = [word for word in new_review if not word in set(all_stopwords)]\r\n",
        "  new_review = ' '.join(new_review)\r\n",
        "  new_corpus = [new_review]\r\n",
        "  # Convert to binary form\r\n",
        "  new_X_test = cv.transform(new_corpus).toarray()\r\n",
        "  # Predict sentiment for review\r\n",
        "  new_y_pred = loaded_model.predict(new_X_test)\r\n",
        "  return new_y_pred\r\n",
        "\r\n",
        "# Take review from user\r\n",
        "input_review = st.text_input('Enter new review:')\r\n",
        "new_review = new_review(input_review)\r\n",
        "# Display results to user\r\n",
        "if new_review[0]==1:\r\n",
        "   st.title(\"Positive\")\r\n",
        "else :\r\n",
        "   st.title(\"Negative\")"
      ],
      "execution_count": 32,
      "outputs": [
        {
          "output_type": "stream",
          "text": [
            "Overwriting app.py\n"
          ],
          "name": "stdout"
        }
      ]
    },
    {
      "cell_type": "code",
      "metadata": {
        "colab": {
          "base_uri": "https://localhost:8080/",
          "height": 52
        },
        "id": "9P9zPRGvnZ7Y",
        "outputId": "a2a8ba01-bf9a-4134-ea93-2c0c3329188c"
      },
      "source": [
        "!nohup streamlit run app.py &\r\n",
        "url = ngrok.connect(port='8501')\r\n",
        "url"
      ],
      "execution_count": 29,
      "outputs": [
        {
          "output_type": "stream",
          "text": [
            "nohup: appending output to 'nohup.out'\n"
          ],
          "name": "stdout"
        },
        {
          "output_type": "execute_result",
          "data": {
            "application/vnd.google.colaboratory.intrinsic+json": {
              "type": "string"
            },
            "text/plain": [
              "'http://885932682606.ngrok.io'"
            ]
          },
          "metadata": {
            "tags": []
          },
          "execution_count": 29
        }
      ]
    },
    {
      "cell_type": "markdown",
      "metadata": {
        "id": "9A2AKdTM5bOC"
      },
      "source": [
        "Generate requirements.txt that contains a list of libraries needed to run this code"
      ]
    },
    {
      "cell_type": "code",
      "metadata": {
        "id": "xlK6UwaBnc4-"
      },
      "source": [
        "!pip freeze > requirements.txt"
      ],
      "execution_count": 33,
      "outputs": []
    },
    {
      "cell_type": "code",
      "metadata": {
        "id": "kXe0yLS15aEJ"
      },
      "source": [
        ""
      ],
      "execution_count": null,
      "outputs": []
    }
  ]
}